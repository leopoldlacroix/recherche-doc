{
 "metadata": {
  "language_info": {
   "codemirror_mode": {
    "name": "ipython",
    "version": 3
   },
   "file_extension": ".py",
   "mimetype": "text/x-python",
   "name": "python",
   "nbconvert_exporter": "python",
   "pygments_lexer": "ipython3",
   "version": "3.8.5-final"
  },
  "orig_nbformat": 2,
  "kernelspec": {
   "name": "python3",
   "display_name": "Python 3.8.5 64-bit",
   "metadata": {
    "interpreter": {
     "hash": "2db524e06e9f5f4ffedc911c917cb75e12dbc923643829bf417064a77eb14d37"
    }
   }
  }
 },
 "nbformat": 4,
 "nbformat_minor": 2,
 "cells": [
  {
   "cell_type": "code",
   "execution_count": 22,
   "metadata": {},
   "outputs": [],
   "source": [
    "import pandas as pd"
   ]
  },
  {
   "cell_type": "code",
   "execution_count": 23,
   "metadata": {},
   "outputs": [],
   "source": [
    "filepath = 'prospectsclients.xlsx'\n",
    "columns_to_inspect = [\"NOM NETTOYE\", \"nom_client\", \"adresse (si présente dans factures)\", \"responsable\", \"telephone\", \"email\"]\n",
    "columns_to_sort = [\"CODE CE\", \"code_postal\"]\n",
    "group_by = \"CODE CE\" #those with same values for column are grouped\n",
    "sheet_name = \"CLIENTS (BI WeDev)\"\n",
    "header = 0 #row with column titles"
   ]
  },
  {
   "cell_type": "code",
   "execution_count": 24,
   "metadata": {},
   "outputs": [],
   "source": [
    "datas = pd.read_excel(filepath, sheet_name = sheet_name, header = header)"
   ]
  },
  {
   "cell_type": "code",
   "execution_count": 25,
   "metadata": {},
   "outputs": [
    {
     "output_type": "stream",
     "name": "stdout",
     "text": [
      "['CODE CE', 'PIVOT', 'NOM NETTOYE', 'CP COMPLÉTÉ', 'client_id', 'segclient_id', 'CODE 4', 'site_id', 'zone_cvt', 'zone_cvt_id', 'zone_tfr', 'zone_tfr_id', 'region_tfr', 'region_tfr_id', 'groupe', 'groupe_id', 'CODE 2', 'concession_id', 'nom_client', 'client_id.1', 'adresse (si présente dans factures)', 'responsable', 'telephone', 'email', 'code_postal', \"ville sans - ni ' , SAINT  à la place de ST, ni cedex, ni chiffres, ni double espace, ni espace à la fin\", 'Ville initiale', 'client_partenaire', 'sum', 'ID CLIENT A SUPPRIMER', 'flag nom simplifié', 'flag nom_client']\n"
     ]
    }
   ],
   "source": [
    "columns = [col for col in datas]\n",
    "print(columns)"
   ]
  },
  {
   "cell_type": "code",
   "execution_count": 26,
   "metadata": {},
   "outputs": [],
   "source": [
    "datas = datas.sort_values(columns_to_sort)"
   ]
  },
  {
   "cell_type": "code",
   "execution_count": null,
   "metadata": {},
   "outputs": [],
   "source": [
    "datas.info()"
   ]
  },
  {
   "cell_type": "code",
   "execution_count": 28,
   "metadata": {},
   "outputs": [],
   "source": [
    "unique_values = datas[group_by].unique() #pour faire des groupes pas code ce"
   ]
  },
  {
   "cell_type": "code",
   "execution_count": 30,
   "metadata": {},
   "outputs": [],
   "source": [
    "unique = unique_values[0]"
   ]
  },
  {
   "cell_type": "code",
   "execution_count": 32,
   "metadata": {},
   "outputs": [],
   "source": [
    "group = datas.loc[datas[group_by] == unique]"
   ]
  },
  {
   "cell_type": "code",
   "execution_count": null,
   "metadata": {},
   "outputs": [],
   "source": []
  }
 ]
}