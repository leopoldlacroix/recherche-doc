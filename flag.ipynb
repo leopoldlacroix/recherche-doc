{
 "metadata": {
  "language_info": {
   "codemirror_mode": {
    "name": "ipython",
    "version": 3
   },
   "file_extension": ".py",
   "mimetype": "text/x-python",
   "name": "python",
   "nbconvert_exporter": "python",
   "pygments_lexer": "ipython3",
   "version": "3.8.5-final"
  },
  "orig_nbformat": 2,
  "kernelspec": {
   "name": "python3",
   "display_name": "Python 3.8.5 64-bit",
   "metadata": {
    "interpreter": {
     "hash": "2db524e06e9f5f4ffedc911c917cb75e12dbc923643829bf417064a77eb14d37"
    }
   }
  }
 },
 "nbformat": 4,
 "nbformat_minor": 2,
 "cells": [
  {
   "cell_type": "code",
   "execution_count": 2,
   "metadata": {},
   "outputs": [],
   "source": [
    "import pandas as pd"
   ]
  },
  {
   "cell_type": "code",
   "execution_count": 1,
   "metadata": {},
   "outputs": [],
   "source": [
    "filepath = 'prospectsclients.xlsx'\n",
    "columns_to_inspect = [\"NOM NETTOYE\", \"nom_client\", \"adresse (si présente dans factures)\", \"responsable\", \"telephone\", \"email\"]\n",
    "columns_to_sort = [\"CODE CE\", \"code_postal\"]\n",
    "group_by = \"CODE CE\" #those with same values for column are grouped\n",
    "sheet_name = \"CLIENTS (BI WeDev)\"\n",
    "header = 0 #row with column titles"
   ]
  },
  {
   "cell_type": "code",
   "execution_count": 6,
   "metadata": {},
   "outputs": [],
   "source": [
    "datas = pd.read_excel(filepath, sheet_name = sheet_name, header = header)"
   ]
  },
  {
   "cell_type": "code",
   "execution_count": 7,
   "metadata": {},
   "outputs": [
    {
     "output_type": "stream",
     "name": "stdout",
     "text": [
      "['CODE CE', 'PIVOT', 'NOM NETTOYE', 'CP COMPLÉTÉ', 'client_id', 'segclient_id', 'CODE 4', 'site_id', 'zone_cvt', 'zone_cvt_id', 'zone_tfr', 'zone_tfr_id', 'region_tfr', 'region_tfr_id', 'groupe', 'groupe_id', 'CODE 2', 'concession_id', 'nom_client', 'client_id.1', 'adresse (si présente dans factures)', 'responsable', 'telephone', 'email', 'code_postal', \"ville sans - ni ' , SAINT  à la place de ST, ni cedex, ni chiffres, ni double espace, ni espace à la fin\", 'Ville initiale', 'client_partenaire', 'sum', 'ID CLIENT A SUPPRIMER', 'flag nom simplifié', 'flag nom_client']\n"
     ]
    }
   ],
   "source": [
    "columns = [col for col in datas]\n",
    "print(columns)"
   ]
  },
  {
   "cell_type": "code",
   "execution_count": 8,
   "metadata": {},
   "outputs": [],
   "source": [
    "datas = datas.sort_values(columns_to_sort)"
   ]
  },
  {
   "cell_type": "code",
   "execution_count": 9,
   "metadata": {},
   "outputs": [
    {
     "output_type": "stream",
     "name": "stdout",
     "text": [
      "<class 'pandas.core.frame.DataFrame'>\nInt64Index: 25926 entries, 10 to 25821\nData columns (total 32 columns):\n #   Column                                                                                                    Non-Null Count  Dtype  \n---  ------                                                                                                    --------------  -----  \n 0   CODE CE                                                                                                   25926 non-null  int64  \n 1   PIVOT                                                                                                     25926 non-null  object \n 2   NOM NETTOYE                                                                                               25895 non-null  object \n 3   CP COMPLÉTÉ                                                                                               25925 non-null  object \n 4   client_id                                                                                                 25926 non-null  int64  \n 5   segclient_id                                                                                              25926 non-null  int64  \n 6   CODE 4                                                                                                    25926 non-null  int64  \n 7   site_id                                                                                                   25926 non-null  int64  \n 8   zone_cvt                                                                                                  23015 non-null  object \n 9   zone_cvt_id                                                                                               23015 non-null  float64\n 10  zone_tfr                                                                                                  25710 non-null  object \n 11  zone_tfr_id                                                                                               25710 non-null  float64\n 12  region_tfr                                                                                                25710 non-null  float64\n 13  region_tfr_id                                                                                             25710 non-null  float64\n 14  groupe                                                                                                    19959 non-null  object \n 15  groupe_id                                                                                                 19959 non-null  float64\n 16  CODE 2                                                                                                    25926 non-null  int64  \n 17  concession_id                                                                                             25926 non-null  int64  \n 18  nom_client                                                                                                25924 non-null  object \n 19  client_id.1                                                                                               25926 non-null  int64  \n 20  adresse (si présente dans factures)                                                                       15335 non-null  object \n 21  responsable                                                                                               5715 non-null   object \n 22  telephone                                                                                                 12410 non-null  object \n 23  email                                                                                                     5047 non-null   object \n 24  code_postal                                                                                               21254 non-null  float64\n 25  ville sans - ni ' , SAINT  à la place de ST, ni cedex, ni chiffres, ni double espace, ni espace à la fin  23796 non-null  object \n 26  Ville initiale                                                                                            18039 non-null  object \n 27  client_partenaire                                                                                         25926 non-null  object \n 28  sum                                                                                                       25926 non-null  float64\n 29  ID CLIENT A SUPPRIMER                                                                                     1 non-null      float64\n 30  flag nom simplifié                                                                                        4538 non-null   float64\n 31  flag nom_client                                                                                           1410 non-null   float64\ndtypes: float64(10), int64(8), object(14)\nmemory usage: 6.5+ MB\n"
     ]
    }
   ],
   "source": [
    "datas.info()"
   ]
  },
  {
   "cell_type": "code",
   "execution_count": 10,
   "metadata": {},
   "outputs": [],
   "source": [
    "unique_values = datas[group_by].unique() #pour faire des groupes pas code ce"
   ]
  },
  {
   "cell_type": "code",
   "execution_count": 11,
   "metadata": {},
   "outputs": [],
   "source": [
    "unique = unique_values[0]"
   ]
  },
  {
   "cell_type": "code",
   "execution_count": 12,
   "metadata": {},
   "outputs": [],
   "source": [
    "group = datas.loc[datas[group_by] == unique]"
   ]
  },
  {
   "cell_type": "code",
   "execution_count": null,
   "metadata": {},
   "outputs": [],
   "source": []
  },
  {
   "cell_type": "code",
   "execution_count": null,
   "metadata": {},
   "outputs": [],
   "source": []
  }
 ]
}