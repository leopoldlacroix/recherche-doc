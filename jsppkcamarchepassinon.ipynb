{
 "metadata": {
  "language_info": {
   "codemirror_mode": {
    "name": "ipython",
    "version": 3
   },
   "file_extension": ".py",
   "mimetype": "text/x-python",
   "name": "python",
   "nbconvert_exporter": "python",
   "pygments_lexer": "ipython3",
   "version": "3.8.5-final"
  },
  "orig_nbformat": 2,
  "kernelspec": {
   "name": "python3",
   "display_name": "Python 3.8.5 64-bit",
   "metadata": {
    "interpreter": {
     "hash": "2db524e06e9f5f4ffedc911c917cb75e12dbc923643829bf417064a77eb14d37"
    }
   }
  }
 },
 "nbformat": 4,
 "nbformat_minor": 2,
 "cells": [
  {
   "cell_type": "code",
   "execution_count": null,
   "metadata": {},
   "outputs": [],
   "source": [
    "import pandas as pd\n",
    "from difflib import SequenceMatcher\n",
    "import math\n",
    "\n",
    "filepath = 'BI.xlsx'\n",
    "columns_to_inspect = [\"NOM NETTOYE\", \"nom_client\",\n",
    "                      \"adresse (si présente dans factures)\", \"responsable\", \"telephone\", \"email\"]\n",
    "columns_to_sort = [\"CODE CE\", \"code_postal\"]\n",
    "group_by = \"CODE CE\"  # those with same values for column are grouped\n",
    "sheet_name = \"CLIENTS (BI WeDev)\"\n",
    "header = 0  # row with column titles\n",
    "\n"
   ]
  },
  {
   "cell_type": "code",
   "execution_count": null,
   "metadata": {},
   "outputs": [],
   "source": [
    "datas = pd.read_excel(filepath, sheet_name=sheet_name,\n",
    "                      header=header)\n",
    "    "
   ]
  },
  {
   "cell_type": "code",
   "execution_count": null,
   "metadata": {},
   "outputs": [],
   "source": [
    "columns = [col for col in datas]\n",
    "datas = datas.sort_values(columns_to_sort)\n",
    "unique_values = datas[group_by].unique() #pour faire des groupes pas code ce"
   ]
  },
  {
   "cell_type": "code",
   "execution_count": 130,
   "metadata": {},
   "outputs": [
    {
     "output_type": "stream",
     "name": "stdout",
     "text": [
      "0\n",
      "62\n",
      "96\n",
      "96\n",
      "96\n",
      "100\n",
      "124\n",
      "124\n",
      "180\n",
      "303\n",
      "591\n",
      "721\n",
      "776\n",
      "844\n",
      "891\n",
      "947\n",
      "1371\n",
      "1371\n",
      "1681\n",
      "1690\n",
      "1748\n",
      "2066\n",
      "2068\n",
      "2068\n",
      "2126\n",
      "2126\n",
      "2211\n",
      "2215\n",
      "2223\n",
      "2233\n",
      "2443\n",
      "2468\n",
      "2468\n",
      "2474\n",
      "2574\n",
      "2603\n",
      "2631\n",
      "2709\n",
      "2740\n",
      "2740\n",
      "2740\n",
      "2798\n",
      "2808\n",
      "2817\n",
      "2824\n",
      "2826\n",
      "2826\n",
      "2830\n",
      "2830\n",
      "2838\n",
      "2838\n",
      "2838\n",
      "2864\n",
      "2870\n",
      "2874\n",
      "3165\n",
      "3165\n",
      "3216\n",
      "3216\n",
      "3218\n",
      "3218\n",
      "3220\n",
      "3220\n",
      "3224\n",
      "3310\n",
      "3312\n",
      "3467\n",
      "3502\n",
      "3512\n",
      "3520\n",
      "3526\n",
      "3563\n",
      "3790\n",
      "3817\n",
      "3819\n",
      "3833\n",
      "3847\n",
      "4119\n",
      "4149\n",
      "4149\n",
      "4209\n",
      "4215\n",
      "4266\n"
     ]
    }
   ],
   "source": [
    "all_ids_clients_to_check = []\n",
    "for unique_value in unique_values:\n",
    "    group = datas.loc[datas[group_by] == unique_value]\n",
    "    client_ids_tocheck = similar_client_ids(group)\n",
    "    all_ids_clients_to_check += client_ids_tocheck\n",
    "    print(len(all_ids_clients_to_check))\n",
    "\n"
   ]
  },
  {
   "cell_type": "code",
   "execution_count": null,
   "metadata": {},
   "outputs": [],
   "source": [
    "print(columns)\n",
    "datas.info()"
   ]
  },
  {
   "cell_type": "code",
   "execution_count": 131,
   "metadata": {},
   "outputs": [],
   "source": [
    "def str_similarity(a, b):\n",
    "    return SequenceMatcher(None, a, b).ratio()\n",
    "\n",
    "def list_simililarity(l1,l2):\n",
    "    return math.prod([str_similarity(str(elt1), str(elt2)) for (elt1, elt2) in zip(l1,l2)])\n",
    "\n",
    "def similar_client_ids(df):\n",
    "\n",
    "    similar_client_ids = []\n",
    "\n",
    "    n_indexes = len(df.index)\n",
    "    for i in range(n_indexes - 1):\n",
    "        row_i = df.iloc[i]\n",
    "        for j in range(i+1, n_indexes):\n",
    "            row_j = df.iloc[j]\n",
    "\n",
    "            inspect_row_i = row_i[columns_to_inspect]\n",
    "            inspect_row_j = row_j[columns_to_inspect]\n",
    "            similarity_ij = list_simililarity(inspect_row_i,inspect_row_j)\n",
    "\n",
    "            if similarity_ij > 0.5:\n",
    "                row_i_client_id = row_i[\"client_id\"]\n",
    "                row_j_client_id = row_j[\"client_id\"]\n",
    "                # print(row_i_client_id, row_j_client_id, end = \"|\")\n",
    "\n",
    "                if (row_i_client_id in similar_client_ids):\n",
    "                    similar_client_ids.insert(similar_client_ids.index(row_i_client_id) + 1, row_j_client_id)\n",
    "                else:\n",
    "                    similar_client_ids.append(row_i_client_id)\n",
    "                    similar_client_ids.append(row_j_client_id)\n",
    "                break\n",
    "    return similar_client_ids\n",
    "\n",
    "def df_from_client_ids(df,client_ids):\n",
    "    new_df = df[df[\"client_id\"].isin(client_ids)]\n",
    "    new_df.to_csv(\"BI_duplicates.xlsx\")\n",
    "    return new_df\n",
    "\n",
    "def df_without_client_ids(df,client_ids):\n",
    "    return df[~df[\"client_id\"].isin(client_ids)]\n",
    "    "
   ]
  },
  {
   "cell_type": "code",
   "execution_count": null,
   "metadata": {},
   "outputs": [],
   "source": [
    "duplicates = df_from_client_ids(group,client_ids_tocheck)\n",
    "df_without_client_ids(group,client_ids_tocheck)"
   ]
  }
 ]
}